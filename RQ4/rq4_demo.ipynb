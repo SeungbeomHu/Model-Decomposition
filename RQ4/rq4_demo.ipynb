{
 "cells": [
  {
   "cell_type": "markdown",
   "metadata": {},
   "source": [
    "#### load a trained model"
   ]
  },
  {
   "cell_type": "code",
   "execution_count": 1,
   "metadata": {},
   "outputs": [
    {
     "name": "stderr",
     "output_type": "stream",
     "text": [
      "2022-10-27 21:04:00.470408: I tensorflow/core/platform/cpu_feature_guard.cc:151] This TensorFlow binary is optimized with oneAPI Deep Neural Network Library (oneDNN) to use the following CPU instructions in performance-critical operations:  AVX2 AVX512F FMA\n",
      "To enable them in other operations, rebuild TensorFlow with the appropriate compiler flags.\n",
      "2022-10-27 21:04:11.082953: I tensorflow/core/common_runtime/gpu/gpu_device.cc:1525] Created device /job:localhost/replica:0/task:0/device:GPU:0 with 17358 MB memory:  -> device: 0, name: NVIDIA GeForce RTX 3090, pci bus id: 0000:40:00.0, compute capability: 8.6\n",
      "2022-10-27 21:04:11.083839: I tensorflow/core/common_runtime/gpu/gpu_device.cc:1525] Created device /job:localhost/replica:0/task:0/device:GPU:1 with 17358 MB memory:  -> device: 1, name: NVIDIA GeForce RTX 3090, pci bus id: 0000:3e:00.0, compute capability: 8.6\n",
      "2022-10-27 21:04:38.797111: I tensorflow/stream_executor/cuda/cuda_dnn.cc:366] Loaded cuDNN version 8204\n"
     ]
    },
    {
     "name": "stdout",
     "output_type": "stream",
     "text": [
      "  3/313 [..............................] - ETA: 19s - loss: 0.5209 - acc: 0.9271"
     ]
    },
    {
     "name": "stderr",
     "output_type": "stream",
     "text": [
      "2022-10-27 21:04:42.530962: I tensorflow/stream_executor/cuda/cuda_blas.cc:1774] TensorFloat-32 will be used for the matrix multiplication. This will only be logged once.\n"
     ]
    },
    {
     "name": "stdout",
     "output_type": "stream",
     "text": [
      "313/313 [==============================] - 27s 55ms/step - loss: 0.5941 - acc: 0.9418\n"
     ]
    },
    {
     "data": {
      "text/plain": [
       "[0.5941312909126282, 0.9417999982833862]"
      ]
     },
     "execution_count": 1,
     "metadata": {},
     "output_type": "execute_result"
    }
   ],
   "source": [
    "import tensorflow as tf\n",
    "import numpy as np\n",
    "import torch\n",
    "import os\n",
    "import argparse\n",
    "os.environ[\"CUDA_VISIBLE_DEVICES\"] = \"1,0\" \n",
    "from art.utils import  load_cifar10\n",
    "from keras.datasets import  mnist\n",
    "(x_train, y_train), (x_test, y_test), min_pixel_value, max_pixel_value = load_cifar10() \n",
    "best_model = tf.keras.models.load_model('checkpoint/')\n",
    "optimizer = tf.keras.optimizers.SGD(0.0001, momentum=0.9)\n",
    "best_model.compile(\n",
    "        optimizer,\n",
    "        loss = tf.keras.losses.SparseCategoricalCrossentropy(),\n",
    "        metrics=['acc'])\n",
    "best_model.evaluate(x_test,np.argmax(y_test,axis=1))"
   ]
  },
  {
   "cell_type": "markdown",
   "metadata": {},
   "source": [
    "#### calculate the significant interfaces"
   ]
  },
  {
   "cell_type": "code",
   "execution_count": 2,
   "metadata": {},
   "outputs": [],
   "source": [
    "from distutils.log import error\n",
    "from tensorflow.keras import backend as K\n",
    "from analysis import  cka_linear\n",
    "import matplotlib.pyplot as plt\n",
    "def get_activations(images, model, idx):\n",
    "  \"\"\"Return a list of activations obtained from a model on a set of images.\"\"\"\n",
    "  input_layer = model.input\n",
    "  layer_outputs = [model.layers[idx].output]\n",
    "  get_layer_outputs = K.function(input_layer, layer_outputs)\n",
    "  activations = get_layer_outputs(images)\n",
    "  return activations\n",
    "#Testing four variations of adversarial attack distributions\n",
    "def Deviation(model,layers,benign_sample,error_sample):\n",
    "    deviations = []\n",
    "    for attack_id in range(len(error_sample)):\n",
    "        x_train_attack = error_sample[attack_id]\n",
    "        sim1 = []\n",
    "        for i in layers:\n",
    "            out = get_activations(benign_sample,model,i+1)\n",
    "            out1 = get_activations(x_train_attack,model,i+1)\n",
    "            sim1.append(cka_linear(out[0].reshape(1000,-1), out1[0].reshape(1000,-1)))\n",
    "        deviations.append(sim1)\n",
    "        plt.ylim(0,1)\n",
    "        plt.plot(range(len(layers)),sim1,marker='o',label='attack{}'.format(attack_id))\n",
    "    plt.legend(loc=0, numpoints=1)\n",
    "    plt.show()\n",
    "    return deviations\n",
    "def OrderOfImportance(deviations):\n",
    "    \n",
    "    l = len(deviations[0])\n",
    "    score = [0]*l\n",
    "    for d in deviations:\n",
    "        for i in range(1,l):\n",
    "            score[i]+=(d[i-1]-d[i])\n",
    "    return score"
   ]
  },
  {
   "cell_type": "code",
   "execution_count": 3,
   "metadata": {},
   "outputs": [
    {
     "name": "stdout",
     "output_type": "stream",
     "text": [
      "the accuracy of adversarial_attack samples\n",
      "32/32 [==============================] - 2s 67ms/step - loss: 1.0319 - acc: 0.1200\n"
     ]
    },
    {
     "data": {
      "image/png": "[encoded data removed]",
      "text/plain": [
       "<Figure size 432x288 with 1 Axes>"
      ]
     },
     "metadata": {
      "needs_background": "light"
     },
     "output_type": "display_data"
    }
   ],
   "source": [
    "layers = torch.load('/ssd/rxn/property/resnet110_block.pt')\n",
    "error_sample = []\n",
    "for attack in [4]:\n",
    "    x_train_attack = torch.load('/bdata/gg/experiments/adversial/attack{}_seed2.pt'.format(attack))\n",
    "    print('the accuracy of adversarial_attack samples')\n",
    "    best_model.evaluate(x_train_attack[0],np.argmax(x_train_attack[1],axis=1))\n",
    "    error_sample.append(x_train_attack[0])\n",
    "benign_sample =  x_train[0:1000] \n",
    "\n",
    "ans = Deviation(best_model,layers,benign_sample,error_sample)"
   ]
  },
  {
   "cell_type": "code",
   "execution_count": 4,
   "metadata": {},
   "outputs": [],
   "source": [
    "import heapq\n",
    "score = OrderOfImportance(ans)\n",
    "sign = heapq.nlargest(5,range(len(score)),score.__getitem__)"
   ]
  },
  {
   "cell_type": "markdown",
   "metadata": {},
   "source": [
    "#### train only some of the network layers"
   ]
  },
  {
   "cell_type": "code",
   "execution_count": 5,
   "metadata": {},
   "outputs": [
    {
     "name": "stdout",
     "output_type": "stream",
     "text": [
      "the number of trainable layers: 38\n"
     ]
    }
   ],
   "source": [
    "# freeze other layers and only update the parameters of the selected layers\n",
    "def freeze(model,idxs):\n",
    "    for i,layer in enumerate(model.layers): \n",
    "        if i in idxs:\n",
    "            layer.trainable = True\n",
    "        else:\n",
    "            layer.trainable = False\n",
    "f = []\n",
    "for s in sign:\n",
    "    f = f+ [i for i in range(layers[s-1]+2,layers[s]+3)]\n",
    "freeze(best_model,f)\n",
    "num = 0 \n",
    "for l in best_model.layers:\n",
    "    if l.trainable == True:\n",
    "        num = num + 1\n",
    "print('the number of trainable layers:',num)"
   ]
  },
  {
   "cell_type": "code",
   "execution_count": 6,
   "metadata": {},
   "outputs": [
    {
     "name": "stdout",
     "output_type": "stream",
     "text": [
      "(2000, 32, 32, 3) (2000, 10) (2000, 8, 8, 64)\n",
      "63/63 [==============================] - 3s 53ms/step - loss: 0.7280 - acc: 0.5600\n"
     ]
    },
    {
     "data": {
      "text/plain": [
       "[0.7279978394508362, 0.5600000023841858]"
      ]
     },
     "execution_count": 6,
     "metadata": {},
     "output_type": "execute_result"
    }
   ],
   "source": [
    "# for the attack 4 , new training set \n",
    "benign_sample =  x_train[0:1000] \n",
    "x_train_attack = torch.load('/bdata/gg/experiments/adversial/attack4_seed2.pt')\n",
    "x_train_attack[1].shape\n",
    "x_new = np.append(benign_sample,x_train_attack[0],axis=0)\n",
    "y_new = np.append(y_train[:1000],y_train[:1000],axis=0)\n",
    "new_model = tf.keras.Model(inputs = best_model.input, outputs = best_model.layers[layers[sign[0]]].output)\n",
    "temp = new_model(x_train[:1000])\n",
    "y1_new = np.append(temp,temp,axis=0)\n",
    "print(x_new.shape,y_new.shape,y1_new.shape)\n",
    "best_model.evaluate(x_new,np.argmax(y_new,axis=1))"
   ]
  },
  {
   "cell_type": "code",
   "execution_count": 7,
   "metadata": {},
   "outputs": [],
   "source": [
    "# loss = loss1 + loss2 \n",
    "new_model = tf.keras.Model(inputs = best_model.input, outputs = [best_model.layers[layers[sign[0]]].output,best_model.output])\n",
    "loss1 = tf.keras.losses.MeanSquaredError()\n",
    "loss2 = tf.keras.losses.SparseCategoricalCrossentropy(from_logits=True)\n",
    "new_model.compile(\n",
    "        optimizer,\n",
    "        loss = [loss1,loss2],\n",
    "        loss_weights = [0.5,0.5],\n",
    "        metrics=['acc'])"
   ]
  },
  {
   "cell_type": "code",
   "execution_count": 8,
   "metadata": {},
   "outputs": [
    {
     "name": "stdout",
     "output_type": "stream",
     "text": [
      "Epoch 1/10\n",
      "16/16 [==============================] - 12s 153ms/step - loss: 0.7675 - add_39_loss: 0.5253 - dense_loss: 0.7485 - add_39_acc: 0.7228 - dense_acc: 0.7320\n",
      "Epoch 2/10\n",
      "16/16 [==============================] - 1s 90ms/step - loss: 0.6093 - add_39_loss: 0.5203 - dense_loss: 0.4372 - add_39_acc: 0.6837 - dense_acc: 0.8515\n",
      "Epoch 3/10\n",
      "16/16 [==============================] - 2s 98ms/step - loss: 0.5165 - add_39_loss: 0.4801 - dense_loss: 0.2916 - add_39_acc: 0.6837 - dense_acc: 0.9070\n",
      "Epoch 4/10\n",
      "16/16 [==============================] - 2s 96ms/step - loss: 0.4823 - add_39_loss: 0.4853 - dense_loss: 0.2182 - add_39_acc: 0.6641 - dense_acc: 0.9375\n",
      "Epoch 5/10\n",
      "16/16 [==============================] - 2s 99ms/step - loss: 0.4476 - add_39_loss: 0.4512 - dense_loss: 0.1829 - add_39_acc: 0.6720 - dense_acc: 0.9525\n",
      "Epoch 6/10\n",
      "16/16 [==============================] - 1s 94ms/step - loss: 0.4223 - add_39_loss: 0.4331 - dense_loss: 0.1505 - add_39_acc: 0.6740 - dense_acc: 0.9655\n",
      "Epoch 7/10\n",
      "16/16 [==============================] - 1s 92ms/step - loss: 0.4062 - add_39_loss: 0.4219 - dense_loss: 0.1294 - add_39_acc: 0.6752 - dense_acc: 0.9705\n",
      "Epoch 8/10\n",
      "16/16 [==============================] - 2s 97ms/step - loss: 0.4024 - add_39_loss: 0.4351 - dense_loss: 0.1087 - add_39_acc: 0.6673 - dense_acc: 0.9780\n",
      "Epoch 9/10\n",
      "16/16 [==============================] - 2s 96ms/step - loss: 0.3912 - add_39_loss: 0.4311 - dense_loss: 0.0903 - add_39_acc: 0.6695 - dense_acc: 0.9825\n",
      "Epoch 10/10\n",
      "16/16 [==============================] - 2s 95ms/step - loss: 0.3709 - add_39_loss: 0.4021 - dense_loss: 0.0786 - add_39_acc: 0.6720 - dense_acc: 0.9875\n"
     ]
    },
    {
     "data": {
      "text/plain": [
       "<keras.callbacks.History at 0x7f4e2d6ec650>"
      ]
     },
     "execution_count": 8,
     "metadata": {},
     "output_type": "execute_result"
    }
   ],
   "source": [
    "new_model.fit(x_new,[y1_new,np.argmax(y_new,axis=1)],shuffle=True,batch_size=128,epochs=10)"
   ]
  },
  {
   "cell_type": "markdown",
   "metadata": {},
   "source": [
    "#### results of fix by training a small number of network layers"
   ]
  },
  {
   "cell_type": "code",
   "execution_count": 9,
   "metadata": {},
   "outputs": [
    {
     "name": "stdout",
     "output_type": "stream",
     "text": [
      "63/63 [==============================] - 3s 55ms/step - loss: 0.7619 - acc: 0.9825\n"
     ]
    },
    {
     "data": {
      "text/plain": [
       "[0.7618712186813354, 0.9825000166893005]"
      ]
     },
     "execution_count": 9,
     "metadata": {},
     "output_type": "execute_result"
    }
   ],
   "source": [
    "best_model.evaluate(x_new,np.argmax(y_new,axis=1))"
   ]
  },
  {
   "cell_type": "code",
   "execution_count": null,
   "metadata": {},
   "outputs": [],
   "source": []
  }
 ],
 "metadata": {
  "kernelspec": {
   "display_name": "Python 3.7.11 ('torch190')",
   "language": "python",
   "name": "python3"
  },
  "language_info": {
   "codemirror_mode": {
    "name": "ipython",
    "version": 3
   },
   "file_extension": ".py",
   "mimetype": "text/x-python",
   "name": "python",
   "nbconvert_exporter": "python",
   "pygments_lexer": "ipython3",
   "version": "3.7.11"
  },
  "orig_nbformat": 4,
  "vscode": {
   "interpreter": {
    "hash": "85e72365a6a674c59f1f5a17a288d8cbe5c805e4f9e287def85e60ca615a05d7"
   }
  }
 },
 "nbformat": 4,
 "nbformat_minor": 2
}
