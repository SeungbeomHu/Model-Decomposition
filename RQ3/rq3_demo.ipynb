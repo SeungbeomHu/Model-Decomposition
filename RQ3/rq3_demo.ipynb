{
 "cells": [
  {
   "cell_type": "markdown",
   "metadata": {},
   "source": [
    "### first step:     \n",
    "#### find the redundant layers[very little information is converted]"
   ]
  },
  {
   "cell_type": "code",
   "execution_count": 1,
   "metadata": {},
   "outputs": [
    {
     "name": "stderr",
     "output_type": "stream",
     "text": [
      "2022-10-14 00:39:15.294925: I tensorflow/core/platform/cpu_feature_guard.cc:151] This TensorFlow binary is optimized with oneAPI Deep Neural Network Library (oneDNN) to use the following CPU instructions in performance-critical operations:  AVX2 AVX512F FMA\n",
      "To enable them in other operations, rebuild TensorFlow with the appropriate compiler flags.\n",
      "2022-10-14 00:39:20.991653: I tensorflow/core/common_runtime/gpu/gpu_device.cc:1525] Created device /job:localhost/replica:0/task:0/device:GPU:0 with 17387 MB memory:  -> device: 0, name: NVIDIA GeForce RTX 3090, pci bus id: 0000:b5:00.0, compute capability: 8.6\n"
     ]
    },
    {
     "name": "stdout",
     "output_type": "stream",
     "text": [
      "redundant blocks[when threshold is 0.99]:  [5, 9] [22, 35] [38, 49] [53, 54] "
     ]
    }
   ],
   "source": [
    "# tensorflow\n",
    "import tensorflow as tf\n",
    "import torch\n",
    "import os\n",
    "import pandas as pd\n",
    "from tensorflow.keras.datasets import cifar10\n",
    "os.environ[\"CUDA_VISIBLE_DEVICES\"] = \"3\" \n",
    "(x_train, y_train), (x_test, y_test) = cifar10.load_data() \n",
    "x_test = x_test/255.0\n",
    "x_train = x_train/255.0\n",
    "model = tf.keras.models.load_model('../checkpoint/')\n",
    "optimizer = tf.keras.optimizers.SGD(0.001, momentum=0.9)\n",
    "model.compile(\n",
    "    optimizer,\n",
    "    tf.keras.losses.SparseCategoricalCrossentropy(from_logits=True),\n",
    "    metrics=['acc'])\n",
    "data = pd.read_pickle('../checkpoint/0.99_modules.pkl')\n",
    "print('redundant blocks[when threshold is 0.99]: ',end=' ')\n",
    "for d in data[2]:\n",
    "    if d[0]!=d[1]:\n",
    "        print(d,end=' ')"
   ]
  },
  {
   "cell_type": "markdown",
   "metadata": {},
   "source": [
    "#### second step:\n",
    "\n",
    "##### we can already get the redundant part of a trained neural network, and then we can compress it according to the loss of accuracy that we can accept.\n",
    "##### Note that: our compression here is used before any other compression tool, since our compression granularity is 'network layer or block'"
   ]
  },
  {
   "cell_type": "code",
   "execution_count": 2,
   "metadata": {},
   "outputs": [
    {
     "name": "stderr",
     "output_type": "stream",
     "text": [
      "2022-10-14 00:39:47.912214: I tensorflow/core/platform/cpu_feature_guard.cc:151] This TensorFlow binary is optimized with oneAPI Deep Neural Network Library (oneDNN) to use the following CPU instructions in performance-critical operations:  AVX2 AVX512F FMA\n",
      "To enable them in other operations, rebuild TensorFlow with the appropriate compiler flags.\n",
      "2022-10-14 00:39:53.642510: I tensorflow/core/common_runtime/gpu/gpu_device.cc:1525] Created device /job:localhost/replica:0/task:0/device:GPU:0 with 17387 MB memory:  -> device: 0, name: NVIDIA GeForce RTX 3090, pci bus id: 0000:b1:00.0, compute capability: 8.6\n"
     ]
    },
    {
     "name": "stdout",
     "output_type": "stream",
     "text": [
      "[46, 47, 48, 49]\n"
     ]
    },
    {
     "name": "stderr",
     "output_type": "stream",
     "text": [
      "2022-10-14 00:40:17.399706: I tensorflow/stream_executor/cuda/cuda_dnn.cc:366] Loaded cuDNN version 8204\n",
      "2022-10-14 00:40:25.501245: I tensorflow/stream_executor/cuda/cuda_blas.cc:1774] TensorFloat-32 will be used for the matrix multiplication. This will only be logged once.\n"
     ]
    },
    {
     "name": "stdout",
     "output_type": "stream",
     "text": [
      "After deleting 1 blocks, the guaranteed accuracy is 0.9372 \n",
      "After deleting 2 blocks, the guaranteed accuracy is 0.9344 \n",
      "After deleting 3 blocks, the guaranteed accuracy is 0.9259 \n",
      "After deleting 4 blocks, the guaranteed accuracy is 0.9135 \n"
     ]
    },
    {
     "data": {
      "text/plain": [
       "0"
      ]
     },
     "execution_count": 2,
     "metadata": {},
     "output_type": "execute_result"
    }
   ],
   "source": [
    "# Suppose the redundant blocks to be processed are [46,47,48,49]\n",
    "os.system('python find_redundant.py --experiment_dir ../checkpoint/ --layer_indexes 46 47 48 49')"
   ]
  },
  {
   "cell_type": "markdown",
   "metadata": {},
   "source": [
    "#### third step:\n",
    "##### Used other compression tools you need on the pre-compressed network\n"
   ]
  }
 ],
 "metadata": {
  "kernelspec": {
   "display_name": "Python 3.7.11 ('torch190')",
   "language": "python",
   "name": "python3"
  },
  "language_info": {
   "codemirror_mode": {
    "name": "ipython",
    "version": 3
   },
   "file_extension": ".py",
   "mimetype": "text/x-python",
   "name": "python",
   "nbconvert_exporter": "python",
   "pygments_lexer": "ipython3",
   "version": "3.7.11"
  },
  "orig_nbformat": 4,
  "vscode": {
   "interpreter": {
    "hash": "85e72365a6a674c59f1f5a17a288d8cbe5c805e4f9e287def85e60ca615a05d7"
   }
  }
 },
 "nbformat": 4,
 "nbformat_minor": 2
}
