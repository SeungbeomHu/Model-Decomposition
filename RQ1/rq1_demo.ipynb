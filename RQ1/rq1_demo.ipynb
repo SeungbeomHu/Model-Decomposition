{
 "cells": [
  {
   "cell_type": "markdown",
   "metadata": {},
   "source": [
    "# How likely a neural network can be modularized? Under what circumstance can and cannot the modularization disappear?"
   ]
  },
  {
   "cell_type": "markdown",
   "metadata": {},
   "source": [
    "With a total of 125 (5\\*5\\*5) configurations, we train each configuration(model) (i.e., architecture-dataset-task combination) 10 times. There will be 1250(125\\*10) models.\n",
    "Because we will take 10 values as the threshold, we can calculate 12500(1250\\*10) times in total.\n",
    "We save the final result to the ans.pkl file."
   ]
  },
  {
   "cell_type": "markdown",
   "metadata": {},
   "source": [
    "See ./train for the training code"
   ]
  },
  {
   "cell_type": "code",
   "execution_count": 72,
   "metadata": {},
   "outputs": [
    {
     "name": "stdout",
     "output_type": "stream",
     "text": [
      "       model_depth  data_size  task_scale  seed  threshold  modularity_metrics\n",
      "0               14         10           2     1       0.99            0.112857\n",
      "1               44         10           2     1       0.99            0.295727\n",
      "2               86         10           2     1       0.99            0.674419\n",
      "3              110         10           2     1       0.99            0.781818\n",
      "4              152         10           2     1       0.99            0.789474\n",
      "...            ...        ...         ...   ...        ...                 ...\n",
      "12495           14        100          10    10       0.90            0.112857\n",
      "12496           44        100          10    10       0.90            0.704818\n",
      "12497           86        100          10    10       0.90            0.837209\n",
      "12498          110        100          10    10       0.90            0.854545\n",
      "12499          152        100          10    10       0.90            0.921053\n",
      "\n",
      "[12500 rows x 6 columns]\n"
     ]
    }
   ],
   "source": [
    "import pandas as pd\n",
    "import numpy as np\n",
    "data = pd.read_pickle('ans.pkl')\n",
    "print(data)"
   ]
  }
 ],
 "metadata": {
  "kernelspec": {
   "display_name": "Python 3.7.11 ('torch190')",
   "language": "python",
   "name": "python3"
  },
  "language_info": {
   "codemirror_mode": {
    "name": "ipython",
    "version": 3
   },
   "file_extension": ".py",
   "mimetype": "text/x-python",
   "name": "python",
   "nbconvert_exporter": "python",
   "pygments_lexer": "ipython3",
   "version": "3.7.11"
  },
  "orig_nbformat": 4,
  "vscode": {
   "interpreter": {
    "hash": "85e72365a6a674c59f1f5a17a288d8cbe5c805e4f9e287def85e60ca615a05d7"
   }
  }
 },
 "nbformat": 4,
 "nbformat_minor": 2
}
